{
 "cells": [
  {
   "cell_type": "code",
   "execution_count": 1,
   "metadata": {},
   "outputs": [
    {
     "name": "stdout",
     "output_type": "stream",
     "text": [
      "The output: {'ftp': 21, 'ssh': 22, 'telnet': 23, 'http': 80}\n"
     ]
    }
   ],
   "source": [
    "# ASSIGNMENT QN.NO.1\n",
    "#TO CREATE A NEW DICTIONARY IN WHICH KEYS BECOMES VALUES AND VALUES BECOMES KEYS\n",
    "\n",
    "dict1 = {21:\"ftp\",22:\"ssh\",23:\"telnet\",80:\"http\"} \n",
    "dict2 ={value:key         for key,value in dict1.items()}\n",
    "print(\"The output:\",dict2)"
   ]
  },
  {
   "cell_type": "markdown",
   "metadata": {},
   "source": [
    "# OR"
   ]
  },
  {
   "cell_type": "code",
   "execution_count": 2,
   "metadata": {},
   "outputs": [
    {
     "name": "stdout",
     "output_type": "stream",
     "text": [
      "{'FTP': 21, 'SSH': 22, 'telnet': 23, 'http': 80}\n"
     ]
    }
   ],
   "source": [
    "port1={21:\"FTP\",22:\"SSH\",23:\"telnet\",80:\"http\"}\n",
    "d1=list(port1.keys())\n",
    "d2=list(port1.values())\n",
    "port2={d2[i]:d1[i] for i in range(len(d1))}\n",
    "print(port2)"
   ]
  },
  {
   "cell_type": "code",
   "execution_count": 3,
   "metadata": {},
   "outputs": [
    {
     "name": "stdout",
     "output_type": "stream",
     "text": [
      "The list contains sum of tuple: [3, 7, 11, 9]\n"
     ]
    }
   ],
   "source": [
    "# ASSIGNMENT QN.NO.2\n",
    "# MAKE A NEW LIST WHICH CONTAINS THE SUM OF TUPLE\n",
    "\n",
    "list1=[(1,2),(3,4),(5,6),(4,5)]\n",
    "list2=[]\n",
    "for each in range(0,len(list1)):\n",
    "  a,b=list1[each]\n",
    "  list2.append(a+b)\n",
    "print(\"The list contains sum of tuple:\",list2)"
   ]
  },
  {
   "cell_type": "markdown",
   "metadata": {},
   "source": [
    "# OR"
   ]
  },
  {
   "cell_type": "code",
   "execution_count": 4,
   "metadata": {},
   "outputs": [
    {
     "name": "stdout",
     "output_type": "stream",
     "text": [
      "[3, 7, 11, 9]\n"
     ]
    }
   ],
   "source": [
    "lst=[(1,2),(3,4),(5,6),(4,5)]\n",
    "res= [sum(i) for i in lst]\n",
    "print(res)"
   ]
  },
  {
   "cell_type": "code",
   "execution_count": 5,
   "metadata": {},
   "outputs": [
    {
     "name": "stdout",
     "output_type": "stream",
     "text": [
      "The required output: [1, 2, 3, 1, 2, 'a', 'hit', 'less']\n"
     ]
    }
   ],
   "source": [
    "\n",
    "#ASSIGNMENT QN.NO.3\n",
    "# To make the elements in the inner list and tuple to the outer list:\n",
    "\n",
    "list1=[(1,2,3),[1,2],['a','hit','less']]\n",
    "list2=[]\n",
    "list2=[i for each in list1 for i in each]\n",
    "print (\"The required output:\",list2)"
   ]
  },
  {
   "cell_type": "markdown",
   "metadata": {},
   "source": [
    "# OR"
   ]
  },
  {
   "cell_type": "code",
   "execution_count": 6,
   "metadata": {},
   "outputs": [
    {
     "name": "stdout",
     "output_type": "stream",
     "text": [
      "[1, 2, 3, 1, 2, 'a', 'hit', 'less']\n"
     ]
    }
   ],
   "source": [
    "lst=[(1,2,3),[1,2],['a','hit','less']]\n",
    "res=[]\n",
    "for i in lst:\n",
    "    if type(i)==type(lst):\n",
    "        res=res+i\n",
    "    elif type(i)==tuple:\n",
    "        res.extend(i)\n",
    "    else:\n",
    "        res.append(i)\n",
    "print(res)"
   ]
  },
  {
   "cell_type": "code",
   "execution_count": null,
   "metadata": {},
   "outputs": [],
   "source": []
  }
 ],
 "metadata": {
  "kernelspec": {
   "display_name": "Python 3",
   "language": "python",
   "name": "python3"
  },
  "language_info": {
   "codemirror_mode": {
    "name": "ipython",
    "version": 3
   },
   "file_extension": ".py",
   "mimetype": "text/x-python",
   "name": "python",
   "nbconvert_exporter": "python",
   "pygments_lexer": "ipython3",
   "version": "3.7.3"
  }
 },
 "nbformat": 4,
 "nbformat_minor": 2
}
